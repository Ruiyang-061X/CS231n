{
 "cells": [
  {
   "cell_type": "markdown",
   "metadata": {},
   "source": [
    "# Softmax exercise\n",
    "\n",
    "*Complete and hand in this completed worksheet (including its outputs and any supporting code outside of the worksheet) with your assignment submission. For more details see the [assignments page](http://vision.stanford.edu/teaching/cs231n/assignments.html) on the course website.*\n",
    "\n",
    "This exercise is analogous to the SVM exercise. You will:\n",
    "\n",
    "- implement a fully-vectorized **loss function** for the Softmax classifier\n",
    "- implement the fully-vectorized expression for its **analytic gradient**\n",
    "- **check your implementation** with numerical gradient\n",
    "- use a validation set to **tune the learning rate and regularization** strength\n",
    "- **optimize** the loss function with **SGD**\n",
    "- **visualize** the final learned weights\n"
   ]
  },
  {
   "cell_type": "code",
   "execution_count": 2,
   "metadata": {},
   "outputs": [],
   "source": [
    "import random\n",
    "import numpy as np\n",
    "from cs231n.data_utils import load_CIFAR10\n",
    "import matplotlib.pyplot as plt\n",
    "\n",
    "from __future__ import print_function\n",
    "\n",
    "%matplotlib inline\n",
    "plt.rcParams['figure.figsize'] = (10.0, 8.0) # set default size of plots\n",
    "plt.rcParams['image.interpolation'] = 'nearest'\n",
    "plt.rcParams['image.cmap'] = 'gray'\n",
    "\n",
    "# for auto-reloading extenrnal modules\n",
    "# see http://stackoverflow.com/questions/1907993/autoreload-of-modules-in-ipython\n",
    "%load_ext autoreload\n",
    "%autoreload 2"
   ]
  },
  {
   "cell_type": "code",
   "execution_count": 3,
   "metadata": {},
   "outputs": [
    {
     "name": "stdout",
     "output_type": "stream",
     "text": [
      "Train data shape:  (49000, 3073)\n",
      "Train labels shape:  (49000,)\n",
      "Validation data shape:  (1000, 3073)\n",
      "Validation labels shape:  (1000,)\n",
      "Test data shape:  (1000, 3073)\n",
      "Test labels shape:  (1000,)\n",
      "dev data shape:  (500, 3073)\n",
      "dev labels shape:  (500,)\n"
     ]
    }
   ],
   "source": [
    "def get_CIFAR10_data(num_training=49000, num_validation=1000, num_test=1000, num_dev=500):\n",
    "    \"\"\"\n",
    "    Load the CIFAR-10 dataset from disk and perform preprocessing to prepare\n",
    "    it for the linear classifier. These are the same steps as we used for the\n",
    "    SVM, but condensed to a single function.  \n",
    "    \"\"\"\n",
    "    # Load the raw CIFAR-10 data\n",
    "    cifar10_dir = 'cs231n/datasets/cifar-10-batches-py'\n",
    "    X_train, y_train, X_test, y_test = load_CIFAR10(cifar10_dir)\n",
    "    \n",
    "    # subsample the data\n",
    "    mask = list(range(num_training, num_training + num_validation))\n",
    "    X_val = X_train[mask]\n",
    "    y_val = y_train[mask]\n",
    "    mask = list(range(num_training))\n",
    "    X_train = X_train[mask]\n",
    "    y_train = y_train[mask]\n",
    "    mask = list(range(num_test))\n",
    "    X_test = X_test[mask]\n",
    "    y_test = y_test[mask]\n",
    "    mask = np.random.choice(num_training, num_dev, replace=False)\n",
    "    X_dev = X_train[mask]\n",
    "    y_dev = y_train[mask]\n",
    "    \n",
    "    # Preprocessing: reshape the image data into rows\n",
    "    X_train = np.reshape(X_train, (X_train.shape[0], -1))\n",
    "    X_val = np.reshape(X_val, (X_val.shape[0], -1))\n",
    "    X_test = np.reshape(X_test, (X_test.shape[0], -1))\n",
    "    X_dev = np.reshape(X_dev, (X_dev.shape[0], -1))\n",
    "    \n",
    "    # Normalize the data: subtract the mean image\n",
    "    mean_image = np.mean(X_train, axis = 0)\n",
    "    X_train -= mean_image\n",
    "    X_val -= mean_image\n",
    "    X_test -= mean_image\n",
    "    X_dev -= mean_image\n",
    "    \n",
    "    # add bias dimension and transform into columns\n",
    "    X_train = np.hstack([X_train, np.ones((X_train.shape[0], 1))])\n",
    "    X_val = np.hstack([X_val, np.ones((X_val.shape[0], 1))])\n",
    "    X_test = np.hstack([X_test, np.ones((X_test.shape[0], 1))])\n",
    "    X_dev = np.hstack([X_dev, np.ones((X_dev.shape[0], 1))])\n",
    "    \n",
    "    return X_train, y_train, X_val, y_val, X_test, y_test, X_dev, y_dev\n",
    "\n",
    "\n",
    "# Invoke the above function to get our data.\n",
    "X_train, y_train, X_val, y_val, X_test, y_test, X_dev, y_dev = get_CIFAR10_data()\n",
    "print('Train data shape: ', X_train.shape)\n",
    "print('Train labels shape: ', y_train.shape)\n",
    "print('Validation data shape: ', X_val.shape)\n",
    "print('Validation labels shape: ', y_val.shape)\n",
    "print('Test data shape: ', X_test.shape)\n",
    "print('Test labels shape: ', y_test.shape)\n",
    "print('dev data shape: ', X_dev.shape)\n",
    "print('dev labels shape: ', y_dev.shape)"
   ]
  },
  {
   "cell_type": "markdown",
   "metadata": {},
   "source": [
    "## Softmax Classifier\n",
    "\n",
    "Your code for this section will all be written inside **cs231n/classifiers/softmax.py**. \n"
   ]
  },
  {
   "cell_type": "code",
   "execution_count": 7,
   "metadata": {},
   "outputs": [
    {
     "name": "stdout",
     "output_type": "stream",
     "text": [
      "loss: 2.373408\n",
      "sanity check: 2.302585\n"
     ]
    }
   ],
   "source": [
    "# First implement the naive softmax loss function with nested loops.\n",
    "# Open the file cs231n/classifiers/softmax.py and implement the\n",
    "# softmax_loss_naive function.\n",
    "\n",
    "from cs231n.classifiers.softmax import softmax_loss_naive\n",
    "import time\n",
    "\n",
    "# Generate a random softmax weight matrix and use it to compute the loss.\n",
    "W = np.random.randn(3073, 10) * 0.0001\n",
    "loss, grad = softmax_loss_naive(W, X_dev, y_dev, 0.0)\n",
    "\n",
    "# As a rough sanity check, our loss should be something close to -log(0.1).\n",
    "print('loss: %f' % loss)\n",
    "print('sanity check: %f' % (-np.log(0.1)))"
   ]
  },
  {
   "cell_type": "markdown",
   "metadata": {},
   "source": [
    "## Inline Question 1:\n",
    "Why do we expect our loss to be close to -log(0.1)? Explain briefly.**\n",
    "\n",
    "**Your answer:** \n",
    "\n",
    "Because W is random, p is about 0.1, loss is about -log(0.1).\n"
   ]
  },
  {
   "cell_type": "code",
   "execution_count": 26,
   "metadata": {},
   "outputs": [
    {
     "name": "stdout",
     "output_type": "stream",
     "text": [
      "numerical: -1.099422 analytic: -1.099422, relative error: 3.075142e-08\n",
      "numerical: 2.499937 analytic: 2.499937, relative error: 9.864030e-09\n",
      "numerical: -0.804590 analytic: -0.804590, relative error: 2.906871e-08\n",
      "numerical: -3.138056 analytic: -3.138056, relative error: 7.775339e-09\n",
      "numerical: -0.942822 analytic: -0.942822, relative error: 2.201812e-08\n",
      "numerical: 0.790839 analytic: 0.790838, relative error: 7.732683e-08\n",
      "numerical: -0.951410 analytic: -0.951410, relative error: 1.645102e-08\n",
      "numerical: 0.354446 analytic: 0.354446, relative error: 3.917438e-08\n",
      "numerical: -1.065083 analytic: -1.065083, relative error: 2.622053e-08\n",
      "numerical: -3.552823 analytic: -3.552823, relative error: 8.792898e-09\n",
      "numerical: -0.175745 analytic: -0.175745, relative error: 1.582561e-07\n",
      "numerical: 0.093850 analytic: 0.093850, relative error: 3.275731e-07\n",
      "numerical: 1.038042 analytic: 1.038042, relative error: 8.190536e-08\n",
      "numerical: 0.979623 analytic: 0.979623, relative error: 6.025183e-08\n",
      "numerical: 1.188975 analytic: 1.188975, relative error: 4.881760e-08\n",
      "numerical: 2.523468 analytic: 2.523468, relative error: 1.454907e-08\n",
      "numerical: 1.907961 analytic: 1.907961, relative error: 6.299029e-09\n",
      "numerical: -0.742071 analytic: -0.742071, relative error: 1.677093e-08\n",
      "numerical: 1.419622 analytic: 1.419622, relative error: 1.775757e-08\n",
      "numerical: 0.741577 analytic: 0.741577, relative error: 3.434673e-08\n"
     ]
    }
   ],
   "source": [
    "# Complete the implementation of softmax_loss_naive and implement a (naive)\n",
    "# version of the gradient that uses nested loops.\n",
    "loss, grad = softmax_loss_naive(W, X_dev, y_dev, 0.0)\n",
    "\n",
    "# As we did for the SVM, use numeric gradient checking as a debugging tool.\n",
    "# The numeric gradient should be close to the analytic gradient.\n",
    "from cs231n.gradient_check import grad_check_sparse\n",
    "f = lambda w: softmax_loss_naive(w, X_dev, y_dev, 0.0)[0]\n",
    "grad_numerical = grad_check_sparse(f, W, grad, 10)\n",
    "\n",
    "# similar to SVM case, do another gradient check with regularization\n",
    "loss, grad = softmax_loss_naive(W, X_dev, y_dev, 5e1)\n",
    "f = lambda w: softmax_loss_naive(w, X_dev, y_dev, 5e1)[0]\n",
    "grad_numerical = grad_check_sparse(f, W, grad, 10)"
   ]
  },
  {
   "cell_type": "code",
   "execution_count": 30,
   "metadata": {},
   "outputs": [
    {
     "name": "stdout",
     "output_type": "stream",
     "text": [
      "naive loss: 2.373408e+00 computed in 0.190919s\n",
      "vectorized loss: 2.373408e+00 computed in 0.006680s\n",
      "Loss difference: 0.000000\n",
      "Gradient difference: 0.000000\n"
     ]
    }
   ],
   "source": [
    "# Now that we have a naive implementation of the softmax loss function and its gradient,\n",
    "# implement a vectorized version in softmax_loss_vectorized.\n",
    "# The two versions should compute the same results, but the vectorized version should be\n",
    "# much faster.\n",
    "tic = time.time()\n",
    "loss_naive, grad_naive = softmax_loss_naive(W, X_dev, y_dev, 0.000005)\n",
    "toc = time.time()\n",
    "print('naive loss: %e computed in %fs' % (loss_naive, toc - tic))\n",
    "\n",
    "from cs231n.classifiers.softmax import softmax_loss_vectorized\n",
    "tic = time.time()\n",
    "loss_vectorized, grad_vectorized = softmax_loss_vectorized(W, X_dev, y_dev, 0.000005)\n",
    "toc = time.time()\n",
    "print('vectorized loss: %e computed in %fs' % (loss_vectorized, toc - tic))\n",
    "\n",
    "# As we did for the SVM, we use the Frobenius norm to compare the two versions\n",
    "# of the gradient.\n",
    "grad_difference = np.linalg.norm(grad_naive - grad_vectorized, ord='fro')\n",
    "print('Loss difference: %f' % np.abs(loss_naive - loss_vectorized))\n",
    "print('Gradient difference: %f' % grad_difference)"
   ]
  },
  {
   "cell_type": "code",
   "execution_count": 42,
   "metadata": {},
   "outputs": [
    {
     "name": "stdout",
     "output_type": "stream",
     "text": [
      "iteration 0 / 5000: loss 781.934136\n",
      "iteration 100 / 5000: loss 286.986007\n",
      "iteration 200 / 5000: loss 106.460292\n",
      "iteration 300 / 5000: loss 40.200044\n",
      "iteration 400 / 5000: loss 16.075190\n",
      "iteration 500 / 5000: loss 7.191204\n",
      "iteration 600 / 5000: loss 3.953501\n",
      "iteration 700 / 5000: loss 2.771748\n",
      "iteration 800 / 5000: loss 2.321057\n",
      "iteration 900 / 5000: loss 2.194974\n",
      "iteration 1000 / 5000: loss 2.185080\n",
      "iteration 1100 / 5000: loss 2.123975\n",
      "iteration 1200 / 5000: loss 2.119459\n",
      "iteration 1300 / 5000: loss 2.085979\n",
      "iteration 1400 / 5000: loss 2.065511\n",
      "iteration 1500 / 5000: loss 2.064387\n",
      "iteration 1600 / 5000: loss 2.072911\n",
      "iteration 1700 / 5000: loss 2.124960\n",
      "iteration 1800 / 5000: loss 2.109312\n",
      "iteration 1900 / 5000: loss 2.103112\n",
      "iteration 2000 / 5000: loss 2.096723\n",
      "iteration 2100 / 5000: loss 2.081726\n",
      "iteration 2200 / 5000: loss 2.070073\n",
      "iteration 2300 / 5000: loss 2.033886\n",
      "iteration 2400 / 5000: loss 2.028401\n",
      "iteration 2500 / 5000: loss 2.071592\n",
      "iteration 2600 / 5000: loss 2.010110\n",
      "iteration 2700 / 5000: loss 2.062174\n",
      "iteration 2800 / 5000: loss 2.075343\n",
      "iteration 2900 / 5000: loss 2.134565\n",
      "iteration 3000 / 5000: loss 2.075512\n",
      "iteration 3100 / 5000: loss 2.004254\n",
      "iteration 3200 / 5000: loss 2.095096\n",
      "iteration 3300 / 5000: loss 2.128244\n",
      "iteration 3400 / 5000: loss 2.106189\n",
      "iteration 3500 / 5000: loss 2.108336\n",
      "iteration 3600 / 5000: loss 2.116155\n",
      "iteration 3700 / 5000: loss 2.098093\n",
      "iteration 3800 / 5000: loss 2.067121\n",
      "iteration 3900 / 5000: loss 2.043664\n",
      "iteration 4000 / 5000: loss 2.050133\n",
      "iteration 4100 / 5000: loss 2.093165\n",
      "iteration 4200 / 5000: loss 2.129727\n",
      "iteration 4300 / 5000: loss 2.085438\n",
      "iteration 4400 / 5000: loss 2.082912\n",
      "iteration 4500 / 5000: loss 2.110993\n",
      "iteration 4600 / 5000: loss 2.097987\n",
      "iteration 4700 / 5000: loss 2.093785\n",
      "iteration 4800 / 5000: loss 2.073761\n",
      "iteration 4900 / 5000: loss 2.127774\n"
     ]
    },
    {
     "data": {
      "image/png": "[encoded data removed]",
      "text/plain": [
       "<Figure size 432x288 with 1 Axes>"
      ]
     },
     "metadata": {
      "needs_background": "light"
     },
     "output_type": "display_data"
    },
    {
     "name": "stdout",
     "output_type": "stream",
     "text": [
      "iteration 0 / 5000: loss 159.415811\n",
      "iteration 100 / 5000: loss 128.778224\n",
      "iteration 200 / 5000: loss 105.287010\n",
      "iteration 300 / 5000: loss 86.249670\n",
      "iteration 400 / 5000: loss 70.937311\n",
      "iteration 500 / 5000: loss 58.352128\n",
      "iteration 600 / 5000: loss 47.849263\n",
      "iteration 700 / 5000: loss 39.645158\n",
      "iteration 800 / 5000: loss 32.565981\n",
      "iteration 900 / 5000: loss 26.949776\n",
      "iteration 1000 / 5000: loss 22.431198\n",
      "iteration 1100 / 5000: loss 18.689915\n",
      "iteration 1200 / 5000: loss 15.604557\n",
      "iteration 1300 / 5000: loss 13.131776\n",
      "iteration 1400 / 5000: loss 11.148488\n",
      "iteration 1500 / 5000: loss 9.441622\n",
      "iteration 1600 / 5000: loss 8.249499\n",
      "iteration 1700 / 5000: loss 6.955671\n",
      "iteration 1800 / 5000: loss 6.036864\n",
      "iteration 1900 / 5000: loss 5.282924\n",
      "iteration 2000 / 5000: loss 4.745852\n",
      "iteration 2100 / 5000: loss 4.128433\n",
      "iteration 2200 / 5000: loss 3.807293\n",
      "iteration 2300 / 5000: loss 3.374126\n",
      "iteration 2400 / 5000: loss 3.202089\n",
      "iteration 2500 / 5000: loss 2.947704\n",
      "iteration 2600 / 5000: loss 2.710093\n",
      "iteration 2700 / 5000: loss 2.652221\n",
      "iteration 2800 / 5000: loss 2.505294\n",
      "iteration 2900 / 5000: loss 2.307646\n",
      "iteration 3000 / 5000: loss 2.346608\n",
      "iteration 3100 / 5000: loss 2.264395\n",
      "iteration 3200 / 5000: loss 2.177742\n",
      "iteration 3300 / 5000: loss 2.096440\n",
      "iteration 3400 / 5000: loss 2.138884\n",
      "iteration 3500 / 5000: loss 2.108497\n",
      "iteration 3600 / 5000: loss 2.083827\n",
      "iteration 3700 / 5000: loss 2.054959\n",
      "iteration 3800 / 5000: loss 1.995094\n",
      "iteration 3900 / 5000: loss 2.006948\n",
      "iteration 4000 / 5000: loss 1.970344\n",
      "iteration 4100 / 5000: loss 2.073283\n",
      "iteration 4200 / 5000: loss 1.956150\n",
      "iteration 4300 / 5000: loss 1.929775\n",
      "iteration 4400 / 5000: loss 2.056637\n",
      "iteration 4500 / 5000: loss 1.976642\n",
      "iteration 4600 / 5000: loss 1.966562\n",
      "iteration 4700 / 5000: loss 2.001871\n",
      "iteration 4800 / 5000: loss 1.945116\n",
      "iteration 4900 / 5000: loss 2.009294\n"
     ]
    },
    {
     "data": {
      "image/png": "[encoded data removed]",
      "text/plain": [
       "<Figure size 432x288 with 1 Axes>"
      ]
     },
     "metadata": {
      "needs_background": "light"
     },
     "output_type": "display_data"
    },
    {
     "name": "stdout",
     "output_type": "stream",
     "text": [
      "lr 1.000000e-07 reg 5.000000e+03 train accuracy: 0.376490 val accuracy: 0.395000\n",
      "lr 1.000000e-07 reg 2.500000e+04 train accuracy: 0.329898 val accuracy: 0.348000\n",
      "best validation accuracy achieved during cross-validation: 0.395000\n"
     ]
    }
   ],
   "source": [
    "# Use the validation set to tune hyperparameters (regularization strength and\n",
    "# learning rate). You should experiment with different ranges for the learning\n",
    "# rates and regularization strengths; if you are careful you should be able to\n",
    "# get a classification accuracy of over 0.35 on the validation set.\n",
    "from cs231n.classifiers import Softmax\n",
    "results = {}\n",
    "best_val = -1\n",
    "best_softmax = None\n",
    "learning_rates = [1e-7]\n",
    "regularization_strengths = [2.5e4, 0.5e4]\n",
    "\n",
    "################################################################################\n",
    "# TODO:                                                                        #\n",
    "# Use the validation set to set the learning rate and regularization strength. #\n",
    "# This should be identical to the validation that you did for the SVM; save    #\n",
    "# the best trained softmax classifer in best_softmax.                          #\n",
    "################################################################################\n",
    "for lr in learning_rates:\n",
    "    for rs in regularization_strengths:\n",
    "        softmax = Softmax()\n",
    "        loss_hist = softmax.train(X_train, y_train, learning_rate=lr, reg=rs, num_iters=5000, verbose=True)\n",
    "        plt.plot(loss_hist)\n",
    "        plt.xlabel('Iteration number')\n",
    "        plt.ylabel('Loss value')\n",
    "        plt.show()\n",
    "        y_train_pred = softmax.predict(X_train)\n",
    "        trainset_accuracy = np.mean(y_train_pred == y_train)\n",
    "        y_val_pred = softmax.predict(X_val)\n",
    "        validationset_accuracy = np.mean(y_val_pred == y_val)\n",
    "        results[(lr, rs)] = (trainset_accuracy, validationset_accuracy)\n",
    "        if validationset_accuracy > best_val:\n",
    "            best_val = validationset_accuracy\n",
    "            best_softmax = softmax\n",
    "################################################################################\n",
    "#                              END OF YOUR CODE                                #\n",
    "################################################################################\n",
    "    \n",
    "# Print out results.\n",
    "for lr, reg in sorted(results):\n",
    "    train_accuracy, val_accuracy = results[(lr, reg)]\n",
    "    print('lr %e reg %e train accuracy: %f val accuracy: %f' % (\n",
    "                lr, reg, train_accuracy, val_accuracy))\n",
    "    \n",
    "print('best validation accuracy achieved during cross-validation: %f' % best_val)"
   ]
  },
  {
   "cell_type": "code",
   "execution_count": 43,
   "metadata": {},
   "outputs": [
    {
     "name": "stdout",
     "output_type": "stream",
     "text": [
      "softmax on raw pixels final test set accuracy: 0.376000\n"
     ]
    }
   ],
   "source": [
    "# evaluate on test set\n",
    "# Evaluate the best softmax on test set\n",
    "y_test_pred = best_softmax.predict(X_test)\n",
    "test_accuracy = np.mean(y_test == y_test_pred)\n",
    "print('softmax on raw pixels final test set accuracy: %f' % (test_accuracy, ))"
   ]
  },
  {
   "cell_type": "code",
   "execution_count": 44,
   "metadata": {},
   "outputs": [
    {
     "data": {
      "image/png": "[encoded data removed]",
      "text/plain": [
       "<Figure size 432x288 with 10 Axes>"
      ]
     },
     "metadata": {
      "needs_background": "light"
     },
     "output_type": "display_data"
    }
   ],
   "source": [
    "# Visualize the learned weights for each class\n",
    "w = best_softmax.W[:-1,:] # strip out the bias\n",
    "w = w.reshape(32, 32, 3, 10)\n",
    "\n",
    "w_min, w_max = np.min(w), np.max(w)\n",
    "\n",
    "classes = ['plane', 'car', 'bird', 'cat', 'deer', 'dog', 'frog', 'horse', 'ship', 'truck']\n",
    "for i in range(10):\n",
    "    plt.subplot(2, 5, i + 1)\n",
    "    \n",
    "    # Rescale the weights to be between 0 and 255\n",
    "    wimg = 255.0 * (w[:, :, :, i].squeeze() - w_min) / (w_max - w_min)\n",
    "    plt.imshow(wimg.astype('uint8'))\n",
    "    plt.axis('off')\n",
    "    plt.title(classes[i])"
   ]
  }
 ],
 "metadata": {
  "kernelspec": {
   "display_name": "Python 3",
   "language": "python",
   "name": "python3"
  },
  "language_info": {
   "codemirror_mode": {
    "name": "ipython",
    "version": 3
   },
   "file_extension": ".py",
   "mimetype": "text/x-python",
   "name": "python",
   "nbconvert_exporter": "python",
   "pygments_lexer": "ipython3",
   "version": "3.7.2"
  }
 },
 "nbformat": 4,
 "nbformat_minor": 1
}
